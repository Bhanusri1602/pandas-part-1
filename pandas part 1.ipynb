{
 "cells": [
  {
   "cell_type": "code",
   "execution_count": 1,
   "id": "adf0d40e",
   "metadata": {},
   "outputs": [],
   "source": [
    "import pandas as pd"
   ]
  },
  {
   "cell_type": "code",
   "execution_count": 4,
   "id": "629a8453",
   "metadata": {},
   "outputs": [],
   "source": [
    "bh = pd.read_csv(\"beer_states.csv\")"
   ]
  },
  {
   "cell_type": "code",
   "execution_count": 5,
   "id": "380b6944",
   "metadata": {},
   "outputs": [
    {
     "data": {
      "text/html": [
       "<div>\n",
       "<style scoped>\n",
       "    .dataframe tbody tr th:only-of-type {\n",
       "        vertical-align: middle;\n",
       "    }\n",
       "\n",
       "    .dataframe tbody tr th {\n",
       "        vertical-align: top;\n",
       "    }\n",
       "\n",
       "    .dataframe thead th {\n",
       "        text-align: right;\n",
       "    }\n",
       "</style>\n",
       "<table border=\"1\" class=\"dataframe\">\n",
       "  <thead>\n",
       "    <tr style=\"text-align: right;\">\n",
       "      <th></th>\n",
       "      <th>state</th>\n",
       "      <th>year</th>\n",
       "      <th>barrels</th>\n",
       "      <th>type</th>\n",
       "    </tr>\n",
       "  </thead>\n",
       "  <tbody>\n",
       "    <tr>\n",
       "      <th>0</th>\n",
       "      <td>AK</td>\n",
       "      <td>2008</td>\n",
       "      <td>2067.69</td>\n",
       "      <td>On Premises</td>\n",
       "    </tr>\n",
       "    <tr>\n",
       "      <th>1</th>\n",
       "      <td>AK</td>\n",
       "      <td>2009</td>\n",
       "      <td>2263.65</td>\n",
       "      <td>On Premises</td>\n",
       "    </tr>\n",
       "    <tr>\n",
       "      <th>2</th>\n",
       "      <td>AK</td>\n",
       "      <td>2010</td>\n",
       "      <td>1929.15</td>\n",
       "      <td>On Premises</td>\n",
       "    </tr>\n",
       "    <tr>\n",
       "      <th>3</th>\n",
       "      <td>AK</td>\n",
       "      <td>2011</td>\n",
       "      <td>2251.02</td>\n",
       "      <td>On Premises</td>\n",
       "    </tr>\n",
       "    <tr>\n",
       "      <th>4</th>\n",
       "      <td>AK</td>\n",
       "      <td>2012</td>\n",
       "      <td>2312.43</td>\n",
       "      <td>On Premises</td>\n",
       "    </tr>\n",
       "    <tr>\n",
       "      <th>5</th>\n",
       "      <td>AK</td>\n",
       "      <td>2013</td>\n",
       "      <td>2155.60</td>\n",
       "      <td>On Premises</td>\n",
       "    </tr>\n",
       "    <tr>\n",
       "      <th>6</th>\n",
       "      <td>AK</td>\n",
       "      <td>2014</td>\n",
       "      <td>2114.97</td>\n",
       "      <td>On Premises</td>\n",
       "    </tr>\n",
       "    <tr>\n",
       "      <th>7</th>\n",
       "      <td>AK</td>\n",
       "      <td>2015</td>\n",
       "      <td>4511.48</td>\n",
       "      <td>On Premises</td>\n",
       "    </tr>\n",
       "    <tr>\n",
       "      <th>8</th>\n",
       "      <td>AK</td>\n",
       "      <td>2016</td>\n",
       "      <td>13315.93</td>\n",
       "      <td>On Premises</td>\n",
       "    </tr>\n",
       "    <tr>\n",
       "      <th>9</th>\n",
       "      <td>AK</td>\n",
       "      <td>2017</td>\n",
       "      <td>15974.10</td>\n",
       "      <td>On Premises</td>\n",
       "    </tr>\n",
       "  </tbody>\n",
       "</table>\n",
       "</div>"
      ],
      "text/plain": [
       "  state  year   barrels         type\n",
       "0    AK  2008   2067.69  On Premises\n",
       "1    AK  2009   2263.65  On Premises\n",
       "2    AK  2010   1929.15  On Premises\n",
       "3    AK  2011   2251.02  On Premises\n",
       "4    AK  2012   2312.43  On Premises\n",
       "5    AK  2013   2155.60  On Premises\n",
       "6    AK  2014   2114.97  On Premises\n",
       "7    AK  2015   4511.48  On Premises\n",
       "8    AK  2016  13315.93  On Premises\n",
       "9    AK  2017  15974.10  On Premises"
      ]
     },
     "execution_count": 5,
     "metadata": {},
     "output_type": "execute_result"
    }
   ],
   "source": [
    "bh.head(10)"
   ]
  },
  {
   "cell_type": "code",
   "execution_count": 6,
   "id": "8b01e0dc",
   "metadata": {},
   "outputs": [
    {
     "data": {
      "text/html": [
       "<div>\n",
       "<style scoped>\n",
       "    .dataframe tbody tr th:only-of-type {\n",
       "        vertical-align: middle;\n",
       "    }\n",
       "\n",
       "    .dataframe tbody tr th {\n",
       "        vertical-align: top;\n",
       "    }\n",
       "\n",
       "    .dataframe thead th {\n",
       "        text-align: right;\n",
       "    }\n",
       "</style>\n",
       "<table border=\"1\" class=\"dataframe\">\n",
       "  <thead>\n",
       "    <tr style=\"text-align: right;\">\n",
       "      <th></th>\n",
       "      <th>state</th>\n",
       "      <th>year</th>\n",
       "      <th>barrels</th>\n",
       "      <th>type</th>\n",
       "    </tr>\n",
       "  </thead>\n",
       "  <tbody>\n",
       "    <tr>\n",
       "      <th>1862</th>\n",
       "      <td>total</td>\n",
       "      <td>2010</td>\n",
       "      <td>17725898.72</td>\n",
       "      <td>Kegs and Barrels</td>\n",
       "    </tr>\n",
       "    <tr>\n",
       "      <th>1863</th>\n",
       "      <td>total</td>\n",
       "      <td>2011</td>\n",
       "      <td>17817251.15</td>\n",
       "      <td>Kegs and Barrels</td>\n",
       "    </tr>\n",
       "    <tr>\n",
       "      <th>1864</th>\n",
       "      <td>total</td>\n",
       "      <td>2012</td>\n",
       "      <td>18157777.56</td>\n",
       "      <td>Kegs and Barrels</td>\n",
       "    </tr>\n",
       "    <tr>\n",
       "      <th>1865</th>\n",
       "      <td>total</td>\n",
       "      <td>2013</td>\n",
       "      <td>18097967.51</td>\n",
       "      <td>Kegs and Barrels</td>\n",
       "    </tr>\n",
       "    <tr>\n",
       "      <th>1866</th>\n",
       "      <td>total</td>\n",
       "      <td>2014</td>\n",
       "      <td>18176128.25</td>\n",
       "      <td>Kegs and Barrels</td>\n",
       "    </tr>\n",
       "    <tr>\n",
       "      <th>1867</th>\n",
       "      <td>total</td>\n",
       "      <td>2015</td>\n",
       "      <td>17750504.62</td>\n",
       "      <td>Kegs and Barrels</td>\n",
       "    </tr>\n",
       "    <tr>\n",
       "      <th>1868</th>\n",
       "      <td>total</td>\n",
       "      <td>2016</td>\n",
       "      <td>17000382.28</td>\n",
       "      <td>Kegs and Barrels</td>\n",
       "    </tr>\n",
       "    <tr>\n",
       "      <th>1869</th>\n",
       "      <td>total</td>\n",
       "      <td>2017</td>\n",
       "      <td>16514866.69</td>\n",
       "      <td>Kegs and Barrels</td>\n",
       "    </tr>\n",
       "    <tr>\n",
       "      <th>1870</th>\n",
       "      <td>total</td>\n",
       "      <td>2018</td>\n",
       "      <td>15662381.42</td>\n",
       "      <td>Kegs and Barrels</td>\n",
       "    </tr>\n",
       "    <tr>\n",
       "      <th>1871</th>\n",
       "      <td>total</td>\n",
       "      <td>2019</td>\n",
       "      <td>14880067.09</td>\n",
       "      <td>Kegs and Barrels</td>\n",
       "    </tr>\n",
       "  </tbody>\n",
       "</table>\n",
       "</div>"
      ],
      "text/plain": [
       "      state  year      barrels              type\n",
       "1862  total  2010  17725898.72  Kegs and Barrels\n",
       "1863  total  2011  17817251.15  Kegs and Barrels\n",
       "1864  total  2012  18157777.56  Kegs and Barrels\n",
       "1865  total  2013  18097967.51  Kegs and Barrels\n",
       "1866  total  2014  18176128.25  Kegs and Barrels\n",
       "1867  total  2015  17750504.62  Kegs and Barrels\n",
       "1868  total  2016  17000382.28  Kegs and Barrels\n",
       "1869  total  2017  16514866.69  Kegs and Barrels\n",
       "1870  total  2018  15662381.42  Kegs and Barrels\n",
       "1871  total  2019  14880067.09  Kegs and Barrels"
      ]
     },
     "execution_count": 6,
     "metadata": {},
     "output_type": "execute_result"
    }
   ],
   "source": [
    "bh.tail(10)"
   ]
  },
  {
   "cell_type": "code",
   "execution_count": 7,
   "id": "8dec1d8e",
   "metadata": {},
   "outputs": [
    {
     "data": {
      "text/html": [
       "<div>\n",
       "<style scoped>\n",
       "    .dataframe tbody tr th:only-of-type {\n",
       "        vertical-align: middle;\n",
       "    }\n",
       "\n",
       "    .dataframe tbody tr th {\n",
       "        vertical-align: top;\n",
       "    }\n",
       "\n",
       "    .dataframe thead th {\n",
       "        text-align: right;\n",
       "    }\n",
       "</style>\n",
       "<table border=\"1\" class=\"dataframe\">\n",
       "  <thead>\n",
       "    <tr style=\"text-align: right;\">\n",
       "      <th></th>\n",
       "      <th>year</th>\n",
       "      <th>barrels</th>\n",
       "    </tr>\n",
       "  </thead>\n",
       "  <tbody>\n",
       "    <tr>\n",
       "      <th>count</th>\n",
       "      <td>1872.000000</td>\n",
       "      <td>1.853000e+03</td>\n",
       "    </tr>\n",
       "    <tr>\n",
       "      <th>mean</th>\n",
       "      <td>2013.500000</td>\n",
       "      <td>2.286370e+06</td>\n",
       "    </tr>\n",
       "    <tr>\n",
       "      <th>std</th>\n",
       "      <td>3.452975</td>\n",
       "      <td>1.313637e+07</td>\n",
       "    </tr>\n",
       "    <tr>\n",
       "      <th>min</th>\n",
       "      <td>2008.000000</td>\n",
       "      <td>0.000000e+00</td>\n",
       "    </tr>\n",
       "    <tr>\n",
       "      <th>25%</th>\n",
       "      <td>2010.750000</td>\n",
       "      <td>6.907140e+03</td>\n",
       "    </tr>\n",
       "    <tr>\n",
       "      <th>50%</th>\n",
       "      <td>2013.500000</td>\n",
       "      <td>3.080078e+04</td>\n",
       "    </tr>\n",
       "    <tr>\n",
       "      <th>75%</th>\n",
       "      <td>2016.250000</td>\n",
       "      <td>2.221882e+05</td>\n",
       "    </tr>\n",
       "    <tr>\n",
       "      <th>max</th>\n",
       "      <td>2019.000000</td>\n",
       "      <td>1.669300e+08</td>\n",
       "    </tr>\n",
       "  </tbody>\n",
       "</table>\n",
       "</div>"
      ],
      "text/plain": [
       "              year       barrels\n",
       "count  1872.000000  1.853000e+03\n",
       "mean   2013.500000  2.286370e+06\n",
       "std       3.452975  1.313637e+07\n",
       "min    2008.000000  0.000000e+00\n",
       "25%    2010.750000  6.907140e+03\n",
       "50%    2013.500000  3.080078e+04\n",
       "75%    2016.250000  2.221882e+05\n",
       "max    2019.000000  1.669300e+08"
      ]
     },
     "execution_count": 7,
     "metadata": {},
     "output_type": "execute_result"
    }
   ],
   "source": [
    "bh.describe()"
   ]
  },
  {
   "cell_type": "code",
   "execution_count": 8,
   "id": "7eef5ef9",
   "metadata": {},
   "outputs": [
    {
     "data": {
      "text/plain": [
       "<bound method DataFrame.info of       state  year      barrels              type\n",
       "0        AK  2008      2067.69       On Premises\n",
       "1        AK  2009      2263.65       On Premises\n",
       "2        AK  2010      1929.15       On Premises\n",
       "3        AK  2011      2251.02       On Premises\n",
       "4        AK  2012      2312.43       On Premises\n",
       "...     ...   ...          ...               ...\n",
       "1867  total  2015  17750504.62  Kegs and Barrels\n",
       "1868  total  2016  17000382.28  Kegs and Barrels\n",
       "1869  total  2017  16514866.69  Kegs and Barrels\n",
       "1870  total  2018  15662381.42  Kegs and Barrels\n",
       "1871  total  2019  14880067.09  Kegs and Barrels\n",
       "\n",
       "[1872 rows x 4 columns]>"
      ]
     },
     "execution_count": 8,
     "metadata": {},
     "output_type": "execute_result"
    }
   ],
   "source": [
    "bh.info"
   ]
  },
  {
   "cell_type": "markdown",
   "id": "ac2ed3b9",
   "metadata": {},
   "source": []
  },
  {
   "cell_type": "code",
   "execution_count": 10,
   "id": "072ed42d",
   "metadata": {},
   "outputs": [
    {
     "name": "stdout",
     "output_type": "stream",
     "text": [
      "(1872, 4)\n"
     ]
    }
   ],
   "source": [
    "print(bh.shape)"
   ]
  },
  {
   "cell_type": "code",
   "execution_count": 11,
   "id": "ac23e49b",
   "metadata": {},
   "outputs": [
    {
     "name": "stdout",
     "output_type": "stream",
     "text": [
      "1872\n"
     ]
    }
   ],
   "source": [
    "print(bh.shape[0])"
   ]
  },
  {
   "cell_type": "code",
   "execution_count": 12,
   "id": "20df0bb6",
   "metadata": {},
   "outputs": [
    {
     "name": "stdout",
     "output_type": "stream",
     "text": [
      "4\n"
     ]
    }
   ],
   "source": [
    "print(bh.shape[1])"
   ]
  },
  {
   "cell_type": "code",
   "execution_count": 13,
   "id": "b5aeb27d",
   "metadata": {},
   "outputs": [
    {
     "data": {
      "text/plain": [
       "Index(['state', 'year', 'barrels', 'type'], dtype='object')"
      ]
     },
     "execution_count": 13,
     "metadata": {},
     "output_type": "execute_result"
    }
   ],
   "source": [
    "bh.columns"
   ]
  },
  {
   "cell_type": "code",
   "execution_count": 14,
   "id": "b655e55a",
   "metadata": {},
   "outputs": [
    {
     "data": {
      "text/html": [
       "<div>\n",
       "<style scoped>\n",
       "    .dataframe tbody tr th:only-of-type {\n",
       "        vertical-align: middle;\n",
       "    }\n",
       "\n",
       "    .dataframe tbody tr th {\n",
       "        vertical-align: top;\n",
       "    }\n",
       "\n",
       "    .dataframe thead th {\n",
       "        text-align: right;\n",
       "    }\n",
       "</style>\n",
       "<table border=\"1\" class=\"dataframe\">\n",
       "  <thead>\n",
       "    <tr style=\"text-align: right;\">\n",
       "      <th></th>\n",
       "      <th>state</th>\n",
       "      <th>year</th>\n",
       "      <th>barrels</th>\n",
       "      <th>type</th>\n",
       "    </tr>\n",
       "  </thead>\n",
       "  <tbody>\n",
       "    <tr>\n",
       "      <th>0</th>\n",
       "      <td>False</td>\n",
       "      <td>False</td>\n",
       "      <td>False</td>\n",
       "      <td>False</td>\n",
       "    </tr>\n",
       "    <tr>\n",
       "      <th>1</th>\n",
       "      <td>False</td>\n",
       "      <td>False</td>\n",
       "      <td>False</td>\n",
       "      <td>False</td>\n",
       "    </tr>\n",
       "    <tr>\n",
       "      <th>2</th>\n",
       "      <td>False</td>\n",
       "      <td>False</td>\n",
       "      <td>False</td>\n",
       "      <td>False</td>\n",
       "    </tr>\n",
       "    <tr>\n",
       "      <th>3</th>\n",
       "      <td>False</td>\n",
       "      <td>False</td>\n",
       "      <td>False</td>\n",
       "      <td>False</td>\n",
       "    </tr>\n",
       "    <tr>\n",
       "      <th>4</th>\n",
       "      <td>False</td>\n",
       "      <td>False</td>\n",
       "      <td>False</td>\n",
       "      <td>False</td>\n",
       "    </tr>\n",
       "    <tr>\n",
       "      <th>...</th>\n",
       "      <td>...</td>\n",
       "      <td>...</td>\n",
       "      <td>...</td>\n",
       "      <td>...</td>\n",
       "    </tr>\n",
       "    <tr>\n",
       "      <th>1867</th>\n",
       "      <td>False</td>\n",
       "      <td>False</td>\n",
       "      <td>False</td>\n",
       "      <td>False</td>\n",
       "    </tr>\n",
       "    <tr>\n",
       "      <th>1868</th>\n",
       "      <td>False</td>\n",
       "      <td>False</td>\n",
       "      <td>False</td>\n",
       "      <td>False</td>\n",
       "    </tr>\n",
       "    <tr>\n",
       "      <th>1869</th>\n",
       "      <td>False</td>\n",
       "      <td>False</td>\n",
       "      <td>False</td>\n",
       "      <td>False</td>\n",
       "    </tr>\n",
       "    <tr>\n",
       "      <th>1870</th>\n",
       "      <td>False</td>\n",
       "      <td>False</td>\n",
       "      <td>False</td>\n",
       "      <td>False</td>\n",
       "    </tr>\n",
       "    <tr>\n",
       "      <th>1871</th>\n",
       "      <td>False</td>\n",
       "      <td>False</td>\n",
       "      <td>False</td>\n",
       "      <td>False</td>\n",
       "    </tr>\n",
       "  </tbody>\n",
       "</table>\n",
       "<p>1872 rows × 4 columns</p>\n",
       "</div>"
      ],
      "text/plain": [
       "      state   year  barrels   type\n",
       "0     False  False    False  False\n",
       "1     False  False    False  False\n",
       "2     False  False    False  False\n",
       "3     False  False    False  False\n",
       "4     False  False    False  False\n",
       "...     ...    ...      ...    ...\n",
       "1867  False  False    False  False\n",
       "1868  False  False    False  False\n",
       "1869  False  False    False  False\n",
       "1870  False  False    False  False\n",
       "1871  False  False    False  False\n",
       "\n",
       "[1872 rows x 4 columns]"
      ]
     },
     "execution_count": 14,
     "metadata": {},
     "output_type": "execute_result"
    }
   ],
   "source": [
    "bh.isnull()"
   ]
  },
  {
   "cell_type": "code",
   "execution_count": 15,
   "id": "6a2955d4",
   "metadata": {},
   "outputs": [
    {
     "data": {
      "text/plain": [
       "state       0\n",
       "year        0\n",
       "barrels    19\n",
       "type        0\n",
       "dtype: int64"
      ]
     },
     "execution_count": 15,
     "metadata": {},
     "output_type": "execute_result"
    }
   ],
   "source": [
    "bh.isnull().sum()"
   ]
  },
  {
   "cell_type": "code",
   "execution_count": null,
   "id": "2218d30b",
   "metadata": {},
   "outputs": [],
   "source": []
  }
 ],
 "metadata": {
  "kernelspec": {
   "display_name": "Python 3 (ipykernel)",
   "language": "python",
   "name": "python3"
  },
  "language_info": {
   "codemirror_mode": {
    "name": "ipython",
    "version": 3
   },
   "file_extension": ".py",
   "mimetype": "text/x-python",
   "name": "python",
   "nbconvert_exporter": "python",
   "pygments_lexer": "ipython3",
   "version": "3.11.5"
  }
 },
 "nbformat": 4,
 "nbformat_minor": 5
}
